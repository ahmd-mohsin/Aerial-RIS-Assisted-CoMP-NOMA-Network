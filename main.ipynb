{
 "cells": [
  {
   "cell_type": "code",
   "execution_count": 68,
   "metadata": {},
   "outputs": [],
   "source": [
    "from comyx.network import (\n",
    "    UserEquipment,\n",
    "    BaseStation,\n",
    "    RIS,\n",
    "    Link\n",
    ")\n",
    "from comyx.propagation import get_noise_power\n",
    "from comyx.utils import dbm2pow, get_distance\n",
    "\n",
    "import numpy as np\n",
    "from numba import jit\n",
    "from matplotlib import pyplot as plt\n",
    "\n",
    "plt.rcParams[\"font.family\"] = \"STIXGeneral\"\n",
    "plt.rcParams[\"figure.figsize\"] = (6, 4)"
   ]
  },
  {
   "cell_type": "code",
   "execution_count": 69,
   "metadata": {},
   "outputs": [],
   "source": [
    "# System Parameters\n",
    "Pt = np.linspace(-45, 20, 80)  # dBm\n",
    "Pt_lin = dbm2pow(Pt)  # Watt\n",
    "bandwidth = 1e6  # Bandwidth in Hz\n",
    "frequency = 2.4e9  # Carrier frequency\n",
    "temperature = 300  # Kelvin\n",
    "\n",
    "N0 = get_noise_power(temperature, bandwidth)  # dBm\n",
    "N0_lin = dbm2pow(N0)  # Watt"
   ]
  },
  {
   "cell_type": "code",
   "execution_count": 70,
   "metadata": {},
   "outputs": [],
   "source": [
    "# Define Base Stations, Users, and RIS\n",
    "# BS1 = BaseStation(\"BS1\", position=[0, 0, 10], n_antennas=1, t_power=Pt_lin)\n",
    "# BS2 = BaseStation(\"BS2\", position=[600, 0, 10], n_antennas=1, t_power=Pt_lin)\n",
    "# UEn1 = UserEquipment(\"UEn1\", position=[250, 0, 1], n_antennas=1)\n",
    "# UEn2 = UserEquipment(\"UEn2\", position=[450, 0, 1], n_antennas=1)\n",
    "# UEf = UserEquipment(\"UEf\", position=[800, 0, 1], n_antennas=1)\n",
    "\n",
    "# Define Base Stations\n",
    "BS1 = BaseStation(\"BS1\", position=[0, 0, 10], n_antennas=1, t_power=Pt_lin)\n",
    "BS2 = BaseStation(\"BS2\", position=[600, 0, 10], n_antennas=1, t_power=Pt_lin)\n",
    "\n",
    "# Define User Equipment\n",
    "UEn1 = UserEquipment(\"UEn1\", position=[250, 0, 1], n_antennas=1)\n",
    "UEn2 = UserEquipment(\"UEn2\", position=[450, 0, 1], n_antennas=1)\n",
    "\n",
    "# Define Far User positioned far from BS1, BS2, and RIS\n",
    "# Position far user in a way that is far from both base stations and RIS\n",
    "# For example, this position can be far in the x and y directions\n",
    "UEf = UserEquipment(\"UEf\", position=[1200, 800, 1], n_antennas=1)  # Adjust as needed"
   ]
  },
  {
   "cell_type": "code",
   "execution_count": 71,
   "metadata": {},
   "outputs": [],
   "source": [
    "# Define RIS\n",
    "n_elements = 70  # Number of elements\n",
    "R = RIS(\"RIS\", position=[600, 0, 5], n_elements=n_elements)\n",
    "R.amplitudes = np.ones((n_elements, ))  # ideal elements\n",
    "R.phase_shifts = np.random.uniform(0, 2 * np.pi, (n_elements, ))"
   ]
  },
  {
   "cell_type": "code",
   "execution_count": 72,
   "metadata": {},
   "outputs": [
    {
     "name": "stdout",
     "output_type": "stream",
     "text": [
      "Distance between BS1 and UEn1: 250.1619475459847\n",
      "Distance between BS2 and UEn2: 150.26975743641833\n",
      "Distance between BS1 and UEf: 1442.2485916096434\n",
      "Distance between BS2 and UEf: 1000.0404991799082\n",
      "Distance between RIS and UEn1: 350.0228563965502\n",
      "Distance between RIS and UEn2: 150.05332385522155\n",
      "Distance between RIS and UEf: 1000.0079999680003\n"
     ]
    }
   ],
   "source": [
    "# Display distances\n",
    "print(\"Distance between BS1 and UEn1:\", get_distance(BS1.position, UEn1.position))\n",
    "print(\"Distance between BS2 and UEn2:\", get_distance(BS2.position, UEn2.position))\n",
    "print(\"Distance between BS1 and UEf:\", get_distance(BS1.position, UEf.position))\n",
    "print(\"Distance between BS2 and UEf:\", get_distance(BS2.position, UEf.position))\n",
    "print(\"Distance between RIS and UEn1:\", get_distance(R.position, UEn1.position))\n",
    "print(\"Distance between RIS and UEn2:\", get_distance(R.position, UEn2.position))\n",
    "print(\"Distance between RIS and UEf:\", get_distance(R.position, UEf.position))"
   ]
  },
  {
   "cell_type": "code",
   "execution_count": 73,
   "metadata": {},
   "outputs": [],
   "source": [
    "# Define Links\n",
    "los_fading_args1 = {\"type\": \"rician\", \"K\": 3, \"sigma\": 1}  # Rician fading for LOS\n",
    "los_fading_args2 = {\"type\": \"rician\", \"K\": 4, \"sigma\": 1}  # Rician fading for LOS\n",
    "nlos_fading_args = {\"type\": \"rayleigh\"}  # Rayleigh fading for NLOS\n",
    "pathloss_args1 = {\n",
    "    \"type\": \"reference\",\n",
    "    \"alpha\": 3.5,\n",
    "    \"p0\": 20,\n",
    "    \"frequency\": frequency,\n",
    "}\n",
    "pathloss_args2 = {\n",
    "    \"type\": \"reference\",\n",
    "    \"alpha\": 4.5,\n",
    "    \"p0\": 20,\n",
    "    \"frequency\": frequency,\n",
    "}\n",
    "pathloss_args3 = {\n",
    "    \"type\": \"reference\",\n",
    "    \"alpha\": 3.0,\n",
    "    \"p0\": 20,\n",
    "    \"frequency\": frequency,\n",
    "}\n",
    "pathloss_args4 = {\n",
    "    \"type\": \"reference\",\n",
    "    \"alpha\": 2.7,\n",
    "    \"p0\": 20,\n",
    "    \"frequency\": frequency,\n",
    "}"
   ]
  },
  {
   "cell_type": "code",
   "execution_count": 74,
   "metadata": {},
   "outputs": [],
   "source": [
    "shape_bu = (1, 1, 10000)\n",
    "shape_br = (n_elements, 1, 10000)\n",
    "shape_ru = (n_elements, 1, 10000)"
   ]
  },
  {
   "cell_type": "code",
   "execution_count": 75,
   "metadata": {},
   "outputs": [],
   "source": [
    "bs1_uen1 = Link(\n",
    "    BS1,\n",
    "    UEn1,\n",
    "    fading_args=nlos_fading_args,\n",
    "    pathloss_args=pathloss_args1,\n",
    "    shape=shape_bu,\n",
    ")\n",
    "bs1_ris = Link(\n",
    "    BS1, R, fading_args=los_fading_args1, pathloss_args=pathloss_args3, shape=shape_br\n",
    ")\n",
    "ris_uen1 = Link(\n",
    "    R,\n",
    "    UEn1,\n",
    "    fading_args=los_fading_args2,\n",
    "    pathloss_args=pathloss_args2,\n",
    "    shape=shape_ru,\n",
    ")"
   ]
  },
  {
   "cell_type": "code",
   "execution_count": 76,
   "metadata": {},
   "outputs": [],
   "source": [
    "bs2_uen2 = Link(\n",
    "    BS2,\n",
    "    UEn2,\n",
    "    fading_args=nlos_fading_args,\n",
    "    pathloss_args=pathloss_args1,\n",
    "    shape=shape_bu,\n",
    ")\n",
    "bs2_ris = Link(\n",
    "    BS2, R, fading_args=los_fading_args1, pathloss_args=pathloss_args3, shape=shape_br\n",
    ")\n",
    "ris_uen2 = Link(\n",
    "    R,\n",
    "    UEn2,\n",
    "    fading_args=los_fading_args2,\n",
    "    pathloss_args=pathloss_args2,\n",
    "    shape=shape_ru,\n",
    ")"
   ]
  },
  {
   "cell_type": "code",
   "execution_count": 77,
   "metadata": {},
   "outputs": [],
   "source": [
    "ris_uef = Link(\n",
    "    R, UEf, fading_args=los_fading_args2, pathloss_args=pathloss_args2, shape=(n_elements, 10000)\n",
    ")"
   ]
  },
  {
   "cell_type": "code",
   "execution_count": 78,
   "metadata": {},
   "outputs": [],
   "source": [
    "# Effective channel gain function\n",
    "def effective_channel_gain(direct, to_ris, from_ris, ris, n_elements):\n",
    "    \"\"\"Calculate the effective channel gain.\"\"\"\n",
    "    csc = np.zeros(direct.channel_gain.shape, dtype=np.complex128)\n",
    "\n",
    "    for i in range(n_elements):\n",
    "        csc += (\n",
    "            from_ris.channel_gain[i, :, :]\n",
    "            * ris.amplitudes[i]\n",
    "            * np.exp(1j * ris.phase_shifts[i])\n",
    "            * to_ris.channel_gain[i, :, :]\n",
    "        )\n",
    "\n",
    "    return direct.channel_gain + csc"
   ]
  },
  {
   "cell_type": "code",
   "execution_count": 79,
   "metadata": {},
   "outputs": [],
   "source": [
    "# Channel Gains\n",
    "gain_eff1 = effective_channel_gain(bs1_uen1, bs1_ris, ris_uen1, R, n_elements)\n",
    "gain_eff2 = effective_channel_gain(bs2_uen2, bs2_ris, ris_uen2, R, n_elements)\n"
   ]
  },
  {
   "cell_type": "code",
   "execution_count": 80,
   "metadata": {},
   "outputs": [],
   "source": [
    "# Magnitudes\n",
    "mag_eff1 = np.abs(gain_eff1) ** 2\n",
    "mag_eff2 = np.abs(gain_eff2) ** 2\n",
    "mag_d1 = np.abs(bs1_uen1.channel_gain) ** 2\n",
    "mag_d2 = np.abs(bs2_uen2.channel_gain) ** 2"
   ]
  },
  {
   "cell_type": "code",
   "execution_count": 87,
   "metadata": {},
   "outputs": [
    {
     "name": "stdout",
     "output_type": "stream",
     "text": [
      "Effective channel gain between BS1 and UEn1: 8.067448826304244e-11\n",
      "Effective channel gain between BS2 and UEn2: 4.811866933314729e-10\n",
      "Direct channel gain between BS1 and UEn1: 8.067447393291776e-11\n",
      "Direct channel gain between BS2 and UEn2: 4.805839900057546e-10\n"
     ]
    }
   ],
   "source": [
    "#output channel gains\n",
    "print(\"Effective channel gain between BS1 and UEn1:\", np.mean(mag_eff1))\n",
    "print(\"Effective channel gain between BS2 and UEn2:\", np.mean(mag_eff2))\n",
    "print(\"Direct channel gain between BS1 and UEn1:\", np.mean(mag_d1))\n",
    "print(\"Direct channel gain between BS2 and UEn2:\", np.mean(mag_d2))"
   ]
  },
  {
   "cell_type": "code",
   "execution_count": null,
   "metadata": {},
   "outputs": [],
   "source": []
  },
  {
   "cell_type": "code",
   "execution_count": 81,
   "metadata": {},
   "outputs": [],
   "source": [
    "# SINR and Rate Calculation\n",
    "UEn1.sinr_wRIS = np.zeros((len(Pt), 10000))\n",
    "UEn1.sinr_woRIS = np.zeros((len(Pt), 10000))\n",
    "UEn2.sinr_wRIS = np.zeros((len(Pt), 10000))\n",
    "UEn2.sinr_woRIS = np.zeros((len(Pt), 10000))\n",
    "UEf.sinr1 = np.zeros((len(Pt), 10000))  # Pairing with UEn1\n",
    "UEf.sinr2 = np.zeros((len(Pt), 10000))  # Pairing with UEn2"
   ]
  },
  {
   "cell_type": "code",
   "execution_count": 82,
   "metadata": {},
   "outputs": [],
   "source": [
    "# Power allocations for NOMA\n",
    "allocations1 = {\"UEf\": 0.75, \"UEn1\": 0.25}\n",
    "allocations2 = {\"UEf\": 0.75, \"UEn2\": 0.25}\n"
   ]
  },
  {
   "cell_type": "code",
   "execution_count": 83,
   "metadata": {},
   "outputs": [],
   "source": [
    "for i, p in enumerate(Pt_lin):\n",
    "    p1 = BS1.t_power[i]\n",
    "    p2 = BS2.t_power[i]\n",
    "\n",
    "    # SINR with RIS\n",
    "    UEn1.sinr_wRIS[i, :] = (allocations1[\"UEn1\"] * p1 * mag_eff1) / (\n",
    "        allocations1[\"UEf\"] * p1 * mag_eff1 + N0_lin + p2 * mag_d2\n",
    "    )\n",
    "    UEn2.sinr_wRIS[i, :] = (allocations2[\"UEn2\"] * p2 * mag_eff2) / (\n",
    "        allocations2[\"UEf\"] * p2 * mag_eff2 + N0_lin + p1 * mag_d1\n",
    "    )\n",
    "    UEf.sinr1[i, :] = (allocations1[\"UEf\"] * p1 * mag_eff1) + (allocations2[\"UEf\"] * p2* mag_eff2) / (\n",
    "        allocations1[\"UEn1\"] * p1 * mag_eff1 + N0_lin + allocations2[\"UEn2\"] * p2 * mag_eff2\n",
    "    )\n",
    "    \n"
   ]
  },
  {
   "cell_type": "code",
   "execution_count": 84,
   "metadata": {},
   "outputs": [],
   "source": [
    "# Rates\n",
    "rate_wRIS_n1 = np.log2(1 + UEn1.sinr_wRIS)\n",
    "rate_wRIS_n2 = np.log2(1 + UEn2.sinr_wRIS)\n",
    "rate_wRIS_f = np.log2(1 + UEf.sinr1)"
   ]
  },
  {
   "cell_type": "code",
   "execution_count": 85,
   "metadata": {},
   "outputs": [],
   "source": [
    "# Average Rates\n",
    "UEn1.rate_wRIS = np.mean(rate_wRIS_n1, axis=-1)\n",
    "UEn2.rate_wRIS = np.mean(rate_wRIS_n2, axis=-1)\n",
    "UEf.rate_wRIS = np.mean(rate_wRIS_f, axis=-1)"
   ]
  },
  {
   "cell_type": "code",
   "execution_count": 86,
   "metadata": {},
   "outputs": [
    {
     "data": {
      "image/png": "[encoded data removed]",
      "text/plain": [
       "<Figure size 600x400 with 1 Axes>"
      ]
     },
     "metadata": {},
     "output_type": "display_data"
    }
   ],
   "source": [
    "# plotting rates\n",
    "plt.figure()\n",
    "\n",
    "plt.plot(Pt, UEn1.rate_wRIS, label=\"UEn1\")\n",
    "plt.plot(Pt, UEn2.rate_wRIS, label=\"UEn2\")\n",
    "plt.plot(Pt, UEf.rate_wRIS, label=\"UEf\")\n",
    "\n",
    "plt.xlabel(\"Transmit Power (dBm)\")\n",
    "plt.ylabel(\"Average Rate (bps/Hz)\")\n",
    "\n",
    "plt.legend()\n",
    "plt.grid(True)\n",
    "plt.show()\n"
   ]
  },
  {
   "cell_type": "code",
   "execution_count": null,
   "metadata": {},
   "outputs": [],
   "source": []
  }
 ],
 "metadata": {
  "kernelspec": {
   "display_name": "fyp",
   "language": "python",
   "name": "python3"
  },
  "language_info": {
   "codemirror_mode": {
    "name": "ipython",
    "version": 3
   },
   "file_extension": ".py",
   "mimetype": "text/x-python",
   "name": "python",
   "nbconvert_exporter": "python",
   "pygments_lexer": "ipython3",
   "version": "3.10.11"
  }
 },
 "nbformat": 4,
 "nbformat_minor": 2
}
